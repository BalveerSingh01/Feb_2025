{
 "cells": [
  {
   "cell_type": "markdown",
   "id": "22bb7ef2-5695-4b25-82b8-5d33a6a14e7e",
   "metadata": {},
   "source": [
    "## List comprehension\n",
    "\n",
    "- List comprehension a way to write list operations in a single line\n",
    "\n",
    "- when we apply for loop and if-else conditional statements then the code compilation\n",
    "  becomes slow\n",
    "\n",
    "- which means it takes much time \n",
    "\n",
    "- in order to avoid the time complexity we will use list comprehension\n",
    "\n",
    "- List comprehension is a single line code"
   ]
  },
  {
   "cell_type": "markdown",
   "id": "727e4c1b-303f-4d3e-82d3-acfad08e586b",
   "metadata": {},
   "source": [
    "**Case-1: Only for loop**"
   ]
  },
  {
   "cell_type": "code",
   "execution_count": 1,
   "id": "a8158b86-07f8-4eb9-bc4d-8c1ebcac0603",
   "metadata": {},
   "outputs": [
    {
     "data": {
      "text/plain": [
       "[0, 1, 2, 3, 4, 5, 6, 7, 8, 9]"
      ]
     },
     "execution_count": 1,
     "metadata": {},
     "output_type": "execute_result"
    }
   ],
   "source": [
    "list1=[]\n",
    "for i in range(10):\n",
    "    list1.append(i)\n",
    "list1"
   ]
  },
  {
   "cell_type": "code",
   "execution_count": null,
   "id": "8989aa5d-e625-4624-82f0-265846615157",
   "metadata": {},
   "outputs": [],
   "source": [
    "list1=[<code should write here>]\n",
    "# inside code no need of append\n",
    "list1=[<output var> <for loop>]"
   ]
  },
  {
   "cell_type": "code",
   "execution_count": 2,
   "id": "ce7e0171-2cf0-4f82-8a98-c6dd0b1ee9e9",
   "metadata": {},
   "outputs": [
    {
     "data": {
      "text/plain": [
       "[0, 1, 2, 3, 4, 5, 6, 7, 8, 9]"
      ]
     },
     "execution_count": 2,
     "metadata": {},
     "output_type": "execute_result"
    }
   ],
   "source": [
    "list1=[i for i in range(10)]\n",
    "list1"
   ]
  },
  {
   "cell_type": "markdown",
   "id": "66251acb-56a9-433c-9d7d-7abd450dd196",
   "metadata": {},
   "source": [
    "**dont give : after for loop**"
   ]
  },
  {
   "cell_type": "code",
   "execution_count": null,
   "id": "06368726-70ee-4967-ac1a-ab2180be9ee7",
   "metadata": {},
   "outputs": [],
   "source": [
    "# Q1) input=['hyd','bengaluru','pune','mumbai']\n",
    "#     output=['Hyd','Bengaluru','Pune','Mumbai']\n",
    "\n",
    "# Q2) input=['hyd','bengaluru','pune','mumbai']\n",
    "#     output=['HYD','BENGALURU','PUNE','MUMBAI']\n",
    "\n",
    "# Q3) input=['hyd','bengaluru','pune','mumbai']\n",
    "#     multiply the indexes with 10\n",
    "\n",
    "# Q4) input=['hyd','bengaluru','pune','mumbai']\n",
    "#     calculate the sum of the indexs\n",
    "\n",
    "# Q5) Sum of first 10 natural numbers answer save in a list"
   ]
  },
  {
   "cell_type": "code",
   "execution_count": 3,
   "id": "625ddc9c-6289-49ed-babe-48af44f423a2",
   "metadata": {},
   "outputs": [
    {
     "data": {
      "text/plain": [
       "['Hyd', 'Bengaluru', 'Pune', 'Mumbai']"
      ]
     },
     "execution_count": 3,
     "metadata": {},
     "output_type": "execute_result"
    }
   ],
   "source": [
    "# Q1) input=['hyd','bengaluru','pune','mumbai']\n",
    "#     output=['Hyd','Bengaluru','Pune','Mumbai']\n",
    "input=['hyd','bengaluru','pune','mumbai']\n",
    "output=[]\n",
    "for i in input:\n",
    "    output.append(i.capitalize())\n",
    "output"
   ]
  },
  {
   "cell_type": "code",
   "execution_count": 4,
   "id": "9813de85-d772-4de3-9813-43c6dae9dcb6",
   "metadata": {},
   "outputs": [
    {
     "data": {
      "text/plain": [
       "['Hyd', 'Bengaluru', 'Pune', 'Mumbai']"
      ]
     },
     "execution_count": 4,
     "metadata": {},
     "output_type": "execute_result"
    }
   ],
   "source": [
    "input=['hyd','bengaluru','pune','mumbai']\n",
    "output=[i.capitalize() for i in input]\n",
    "output"
   ]
  },
  {
   "cell_type": "code",
   "execution_count": 5,
   "id": "9e391cf4-3b59-4762-88ae-70a44445e711",
   "metadata": {},
   "outputs": [
    {
     "data": {
      "text/plain": [
       "['HYD', 'BENGALURU', 'PUNE', 'MUMBAI']"
      ]
     },
     "execution_count": 5,
     "metadata": {},
     "output_type": "execute_result"
    }
   ],
   "source": [
    "# Q2) input=['hyd','bengaluru','pune','mumbai']\n",
    "#     output=['HYD','BENGALURU','PUNE','MUMBAI']\n",
    "input=['hyd','bengaluru','pune','mumbai']\n",
    "output=[]\n",
    "for i in input:\n",
    "    output.append(i.upper())\n",
    "output"
   ]
  },
  {
   "cell_type": "code",
   "execution_count": 6,
   "id": "83fd85a0-ea54-4d54-a421-780c48e028b5",
   "metadata": {},
   "outputs": [
    {
     "data": {
      "text/plain": [
       "['HYD', 'BENGALURU', 'PUNE', 'MUMBAI']"
      ]
     },
     "execution_count": 6,
     "metadata": {},
     "output_type": "execute_result"
    }
   ],
   "source": [
    "input=['hyd','bengaluru','pune','mumbai']\n",
    "output=[i.upper() for i in input]\n",
    "output"
   ]
  },
  {
   "cell_type": "code",
   "execution_count": 10,
   "id": "cde74c98-1205-47d7-8ef7-ebbeca836b97",
   "metadata": {},
   "outputs": [
    {
     "data": {
      "text/plain": [
       "[0, 10, 20, 30]"
      ]
     },
     "execution_count": 10,
     "metadata": {},
     "output_type": "execute_result"
    }
   ],
   "source": [
    "# Q3) input=['hyd','bengaluru','pune','mumbai']\n",
    "#     multiply the indexes with 10\n",
    "\n",
    "# idea : get the indexes list first\n",
    "#       then multiply with 10\n",
    "\n",
    "input=['hyd','bengaluru','pune','mumbai']\n",
    "# for i in input:\n",
    "#     print(input.index(i)*10)\n",
    "\n",
    "[input.index(i)*10 for i in ['hyd','bengaluru','pune','mumbai']]\n",
    "[input.index(i)*10 for i in input]"
   ]
  },
  {
   "cell_type": "code",
   "execution_count": 12,
   "id": "07ebcb8a-1f51-4e95-a89c-44c51097d65e",
   "metadata": {},
   "outputs": [
    {
     "data": {
      "text/plain": [
       "60"
      ]
     },
     "execution_count": 12,
     "metadata": {},
     "output_type": "execute_result"
    }
   ],
   "source": [
    "# Q4) input=['hyd','bengaluru','pune','mumbai']\n",
    "#     calculate the sum of the indexs\n",
    "input=['hyd','bengaluru','pune','mumbai']\n",
    "output=[input.index(i)*10 for i in input]\n",
    "sum(output)"
   ]
  },
  {
   "cell_type": "code",
   "execution_count": 13,
   "id": "cc1948f9-885d-4c96-831a-f19b731de14b",
   "metadata": {},
   "outputs": [
    {
     "name": "stdout",
     "output_type": "stream",
     "text": [
      "55\n"
     ]
    }
   ],
   "source": [
    "summ=0\n",
    "for i in range(1,11):\n",
    "    summ=summ+i\n",
    "print(summ)"
   ]
  },
  {
   "cell_type": "markdown",
   "id": "01c65c8f-2046-4cb7-97eb-fd5607c3273e",
   "metadata": {},
   "source": [
    "**walrus operator**"
   ]
  },
  {
   "cell_type": "code",
   "execution_count": 20,
   "id": "75047ffc-307e-437e-89a9-9367d310adc9",
   "metadata": {},
   "outputs": [
    {
     "data": {
      "text/plain": [
       "55"
      ]
     },
     "execution_count": 20,
     "metadata": {},
     "output_type": "execute_result"
    }
   ],
   "source": [
    "summ=0\n",
    "# for i in range(1,11):\n",
    "#     summ=summ+i\n",
    "[summ:=summ+i for i in range(1,11)]\n",
    "summ"
   ]
  },
  {
   "cell_type": "markdown",
   "id": "7e86258c-5d80-4788-b2b9-da5cb75f6364",
   "metadata": {},
   "source": [
    "**Case-2: for loop if condition**"
   ]
  },
  {
   "cell_type": "code",
   "execution_count": 25,
   "id": "932a0ebb-f7fb-492a-a732-750b2aa65e39",
   "metadata": {},
   "outputs": [
    {
     "data": {
      "text/plain": [
       "['even:2', 'even:4', 'even:6', 'even:8']"
      ]
     },
     "execution_count": 25,
     "metadata": {},
     "output_type": "execute_result"
    }
   ],
   "source": [
    "# even number\n",
    "even_list=[]\n",
    "for i in range(1,10):\n",
    "    if i%2==0:\n",
    "        even_list.append(f'even:{i}')\n",
    "even_list"
   ]
  },
  {
   "cell_type": "code",
   "execution_count": null,
   "id": "42b4bb74-15a2-4d1f-ac9f-4eb9e0a3c153",
   "metadata": {},
   "outputs": [],
   "source": [
    "[<output> <if condtiton> <forloop>] --- not working\n",
    "[<output> <forloop> <if condtiton>] --- working"
   ]
  },
  {
   "cell_type": "code",
   "execution_count": 26,
   "id": "45feee22-7d85-46a7-bf98-466fc6a3c65f",
   "metadata": {},
   "outputs": [
    {
     "data": {
      "text/plain": [
       "['even:2', 'even:4', 'even:6', 'even:8']"
      ]
     },
     "execution_count": 26,
     "metadata": {},
     "output_type": "execute_result"
    }
   ],
   "source": [
    "[f'even:{i}' for i in range(1,10) if i%2==0]"
   ]
  },
  {
   "cell_type": "code",
   "execution_count": null,
   "id": "2208f249-42d2-48c3-b92b-6ab178a0820e",
   "metadata": {},
   "outputs": [],
   "source": [
    "# Q6) input=['hyd','ben#galuru','pune','mu#mbai']\n",
    "#     output=[ben#galuru',mu#mbai']\n",
    "\n",
    "# Q7) input=['hyd','ben#galuru','pune','mu#mbai']\n",
    "#     output=[hyd,pune]"
   ]
  },
  {
   "cell_type": "code",
   "execution_count": 28,
   "id": "24c51245-fda8-4ebd-9c1f-91127337c751",
   "metadata": {},
   "outputs": [
    {
     "data": {
      "text/plain": [
       "['ben#galuru', 'mu#mbai']"
      ]
     },
     "execution_count": 28,
     "metadata": {},
     "output_type": "execute_result"
    }
   ],
   "source": [
    "# Q6) input=['hyd','ben#galuru','pune','mu#mbai']\n",
    "#     output=[ben#galuru',mu#mbai']\n",
    "input=['hyd','ben#galuru','pune','mu#mbai']\n",
    "output=[]\n",
    "for i in input:\n",
    "    if '#' in i:\n",
    "        output.append(i)\n",
    "output"
   ]
  },
  {
   "cell_type": "code",
   "execution_count": 29,
   "id": "4fcbd7d3-b9fe-4f4b-870d-b65910ab4f08",
   "metadata": {},
   "outputs": [
    {
     "data": {
      "text/plain": [
       "['ben#galuru', 'mu#mbai']"
      ]
     },
     "execution_count": 29,
     "metadata": {},
     "output_type": "execute_result"
    }
   ],
   "source": [
    "input=['hyd','ben#galuru','pune','mu#mbai']\n",
    "output=[i for i in input if '#' in i]\n",
    "output"
   ]
  },
  {
   "cell_type": "code",
   "execution_count": 31,
   "id": "c79b409a-0b90-458b-83ad-2c0602d3d1d6",
   "metadata": {},
   "outputs": [
    {
     "data": {
      "text/plain": [
       "['hyd', 'pune']"
      ]
     },
     "execution_count": 31,
     "metadata": {},
     "output_type": "execute_result"
    }
   ],
   "source": [
    "# Q7) input=['hyd','ben#galuru','pune','mu#mbai']\n",
    "#     output=[hyd,pune]\n",
    "input=['hyd','ben#galuru','pune','mu#mbai']\n",
    "output=[i for i in input if '#' not in i]\n",
    "output"
   ]
  },
  {
   "cell_type": "markdown",
   "id": "8e565f9a-89ff-420b-a3e8-d8e131fa7236",
   "metadata": {},
   "source": [
    "**case-3:for-if-else**"
   ]
  },
  {
   "cell_type": "code",
   "execution_count": null,
   "id": "aa793498-8389-4309-894e-825b80665890",
   "metadata": {},
   "outputs": [],
   "source": [
    "case-1 for loop: [<output> <for loop>]\n",
    "case-2: for-if: [<output> <for loop> <if condi>]\n",
    "case-3: for-if-else: [<if out> <if cond> else <else out> <for loop>]"
   ]
  },
  {
   "cell_type": "code",
   "execution_count": 33,
   "id": "93f4d5a4-634e-4017-85dd-8b0f0e47eabf",
   "metadata": {},
   "outputs": [
    {
     "data": {
      "text/plain": [
       "['odd:1',\n",
       " 'even:2',\n",
       " 'odd:3',\n",
       " 'even:4',\n",
       " 'odd:5',\n",
       " 'even:6',\n",
       " 'odd:7',\n",
       " 'even:8',\n",
       " 'odd:9']"
      ]
     },
     "execution_count": 33,
     "metadata": {},
     "output_type": "execute_result"
    }
   ],
   "source": [
    "# even number\n",
    "# list1=[]\n",
    "# for i in range(1,10):\n",
    "#     if i%2==0:\n",
    "#         list1.append(f'even:{i}')\n",
    "#     else:\n",
    "#         list1.append(f'odd:{i}')\n",
    "# list1\n",
    "\n",
    "[f'even:{i}' if i%2==0 else f'odd:{i}' for i in range(1,10)] "
   ]
  },
  {
   "cell_type": "markdown",
   "id": "b7e3fd22-db94-46ec-b777-6a56b7fc8ec3",
   "metadata": {},
   "source": [
    "**case-4: for-if-elif-else**\n",
    "\n",
    "- in List Comprehension we dont have **elif** representation\n",
    "\n",
    "- elif also represent as **else+if**\n",
    "\n",
    "- in elif we have **elif condition** and **elif output**\n",
    "\n",
    "- else elif_output elif_condition  "
   ]
  },
  {
   "cell_type": "code",
   "execution_count": null,
   "id": "520ea49f-6c71-4dff-842c-cd7a9da2dc1a",
   "metadata": {},
   "outputs": [],
   "source": [
    "case-1 for loop: [<output> <for loop>]\n",
    "case-2: for-if: [<output> <for loop> <if condi>]\n",
    "case-3: for-if-else: [<if out> <if cond> else <else out> <for loop>]\n",
    "case-4: for-if-elif-else:\n",
    "\n",
    "[<if out> <if cond> else <elif out> <elif cond> else <else out> <for loop>]\n",
    "\n",
    "**Note**: instead of elif term write if "
   ]
  },
  {
   "cell_type": "code",
   "execution_count": 35,
   "id": "442c8cea-9ce4-4297-b214-1859538d1ec7",
   "metadata": {},
   "outputs": [
    {
     "name": "stdout",
     "output_type": "stream",
     "text": [
      "45: C grade\n",
      "55: C grade\n",
      "65: B grade\n",
      "75: B grade\n",
      "85: B grade\n",
      "95: A grade\n"
     ]
    }
   ],
   "source": [
    "# >85 A grade  60-85 B grade  less than 60 C grade\n",
    "l=[45,55,65,75,85,95]\n",
    "for i in l:\n",
    "    if i>85:\n",
    "        print(f'{i}: A grade')\n",
    "    elif i>60:\n",
    "        print(f'{i}: B grade')\n",
    "    else:\n",
    "        print(f'{i}: C grade')"
   ]
  },
  {
   "cell_type": "code",
   "execution_count": 41,
   "id": "642eca20-73df-4026-9228-b40233ccac3e",
   "metadata": {},
   "outputs": [
    {
     "data": {
      "text/plain": [
       "['45: C grade',\n",
       " '55: C grade',\n",
       " '65: B grade',\n",
       " '75: B grade',\n",
       " '85: B grade',\n",
       " '95: A grade']"
      ]
     },
     "execution_count": 41,
     "metadata": {},
     "output_type": "execute_result"
    }
   ],
   "source": [
    "#[<if out> <if cond> else <elif out> <elif cond> else <else out> <for loop>]\n",
    "[f'{i}: A grade' if i>85 \\\n",
    " else \n",
    " f'{i}: B grade' if i>60 \\\n",
    " else f'{i}: C grade' \\\n",
    " for i in l]"
   ]
  },
  {
   "cell_type": "code",
   "execution_count": null,
   "id": "36ec9ff0-911b-4bef-af1f-e720a24c4c46",
   "metadata": {},
   "outputs": [],
   "source": [
    "case-1 for loop: [<output> <for loop>]\n",
    "case-2: for-if: [<output> <for loop> <if condi>]\n",
    "case-3: for-if-else: [<if out> <if cond> else <else out> <for loop>]\n",
    "case-4: for-if-elif-else:\n",
    "\n",
    "[<if out> <if cond> else <elif out> <elif cond> else <else out> <for loop>]"
   ]
  },
  {
   "cell_type": "code",
   "execution_count": null,
   "id": "16e4abc6-e493-411a-9909-cd4cefe1a365",
   "metadata": {},
   "outputs": [],
   "source": [
    "# Tomorrow we dont have class\n",
    "# but you have online exam \n",
    "\n",
    "# No workshop "
   ]
  }
 ],
 "metadata": {
  "kernelspec": {
   "display_name": "Python 3 (ipykernel)",
   "language": "python",
   "name": "python3"
  },
  "language_info": {
   "codemirror_mode": {
    "name": "ipython",
    "version": 3
   },
   "file_extension": ".py",
   "mimetype": "text/x-python",
   "name": "python",
   "nbconvert_exporter": "python",
   "pygments_lexer": "ipython3",
   "version": "3.12.7"
  }
 },
 "nbformat": 4,
 "nbformat_minor": 5
}
